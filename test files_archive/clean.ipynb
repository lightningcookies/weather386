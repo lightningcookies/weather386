{
 "cells": [
  {
   "cell_type": "code",
   "execution_count": 30,
   "metadata": {},
   "outputs": [],
   "source": [
    "import pandas as pd\n",
    "import numpy as np\n",
    "from dateutil.parser import parse"
   ]
  },
  {
   "cell_type": "code",
   "execution_count": 31,
   "metadata": {},
   "outputs": [],
   "source": [
    "df = pd.read_csv('../forecast_csv/df_precip.csv')\n",
    "#df.head(5)"
   ]
  },
  {
   "cell_type": "code",
   "execution_count": 32,
   "metadata": {},
   "outputs": [],
   "source": [
    "df['value'] = df['value'] * 9/5 + 32\n",
    "#df.head()"
   ]
  },
  {
   "cell_type": "code",
   "execution_count": 33,
   "metadata": {},
   "outputs": [
    {
     "data": {
      "text/html": [
       "<div>\n",
       "<style scoped>\n",
       "    .dataframe tbody tr th:only-of-type {\n",
       "        vertical-align: middle;\n",
       "    }\n",
       "\n",
       "    .dataframe tbody tr th {\n",
       "        vertical-align: top;\n",
       "    }\n",
       "\n",
       "    .dataframe thead th {\n",
       "        text-align: right;\n",
       "    }\n",
       "</style>\n",
       "<table border=\"1\" class=\"dataframe\">\n",
       "  <thead>\n",
       "    <tr style=\"text-align: right;\">\n",
       "      <th></th>\n",
       "      <th>validTime</th>\n",
       "      <th>value</th>\n",
       "    </tr>\n",
       "  </thead>\n",
       "  <tbody>\n",
       "    <tr>\n",
       "      <th>0</th>\n",
       "      <td>2023-11-20 15:00:00+00:00</td>\n",
       "      <td>34.7432</td>\n",
       "    </tr>\n",
       "    <tr>\n",
       "      <th>1</th>\n",
       "      <td>2023-11-20 16:00:00+00:00</td>\n",
       "      <td>34.7432</td>\n",
       "    </tr>\n",
       "    <tr>\n",
       "      <th>2</th>\n",
       "      <td>2023-11-20 17:00:00+00:00</td>\n",
       "      <td>34.7432</td>\n",
       "    </tr>\n",
       "    <tr>\n",
       "      <th>3</th>\n",
       "      <td>2023-11-20 18:00:00+00:00</td>\n",
       "      <td>35.2004</td>\n",
       "    </tr>\n",
       "    <tr>\n",
       "      <th>4</th>\n",
       "      <td>2023-11-20 19:00:00+00:00</td>\n",
       "      <td>35.2004</td>\n",
       "    </tr>\n",
       "  </tbody>\n",
       "</table>\n",
       "</div>"
      ],
      "text/plain": [
       "                  validTime    value\n",
       "0 2023-11-20 15:00:00+00:00  34.7432\n",
       "1 2023-11-20 16:00:00+00:00  34.7432\n",
       "2 2023-11-20 17:00:00+00:00  34.7432\n",
       "3 2023-11-20 18:00:00+00:00  35.2004\n",
       "4 2023-11-20 19:00:00+00:00  35.2004"
      ]
     },
     "execution_count": 33,
     "metadata": {},
     "output_type": "execute_result"
    }
   ],
   "source": [
    "# Function to parse duration and expand the dataframe\n",
    "\n",
    "def expand_df(row):\n",
    "    start_time = pd.to_datetime(row['validTime'].split('/')[0])\n",
    "    duration_hours = int(row['validTime'].split('PT')[-1].split('H')[0])\n",
    "    end_time = start_time + pd.Timedelta(hours=duration_hours)\n",
    "\n",
    "    return pd.DataFrame({\n",
    "        'validTime': pd.date_range(start=start_time, end=end_time, freq='H', inclusive='left'),\n",
    "        'value': row['value']\n",
    "    })\n",
    "\n",
    "# Apply the function and concatenate the results\n",
    "df = pd.concat([expand_df(row) for _, row in df.iterrows()], ignore_index=True)\n",
    "\n",
    "df.head(5)"
   ]
  },
  {
   "cell_type": "code",
   "execution_count": 34,
   "metadata": {},
   "outputs": [
    {
     "name": "stdout",
     "output_type": "stream",
     "text": [
      "                    validTime    value\n",
      "0   2023-11-20 15:00:00+00:00  34.7432\n",
      "1   2023-11-20 16:00:00+00:00  34.7432\n",
      "2   2023-11-20 17:00:00+00:00  34.7432\n",
      "3   2023-11-20 18:00:00+00:00  35.2004\n",
      "4   2023-11-20 19:00:00+00:00  35.2004\n",
      "..                        ...      ...\n",
      "172 2023-11-27 19:00:00+00:00  32.0000\n",
      "173 2023-11-27 20:00:00+00:00  32.0000\n",
      "174 2023-11-27 21:00:00+00:00  32.0000\n",
      "175 2023-11-27 22:00:00+00:00  32.0000\n",
      "176 2023-11-27 23:00:00+00:00  32.0000\n",
      "\n",
      "[177 rows x 2 columns]\n"
     ]
    }
   ],
   "source": [
    "print(df)"
   ]
  }
 ],
 "metadata": {
  "kernelspec": {
   "display_name": "base",
   "language": "python",
   "name": "python3"
  },
  "language_info": {
   "codemirror_mode": {
    "name": "ipython",
    "version": 3
   },
   "file_extension": ".py",
   "mimetype": "text/x-python",
   "name": "python",
   "nbconvert_exporter": "python",
   "pygments_lexer": "ipython3",
   "version": "3.11.4"
  }
 },
 "nbformat": 4,
 "nbformat_minor": 2
}
